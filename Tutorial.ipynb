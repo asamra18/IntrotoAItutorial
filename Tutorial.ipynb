{
 "cells": [
  {
   "cell_type": "markdown",
   "metadata": {},
   "source": [
    " # An Introduction To Scikit-Learn, NLTK, and MATPLOTLIB \n",
    " \n",
    "This tutorial will demonstrate how to use some functions from scikit-learn, NLTK, and MATPLOTLIB. These are incredibly useful libraries for anybody working in Artificial Intelligence and Data Science. Scikit-learn is a powerful library due to having its own implementations of various regression, classification, and clustering algorithms. NLTK is used for Natural Language Processing (NLP) and supports classification, sentiment analysis, tagging and various other functionalities. MATPLOTLIB is used for graphing and plotting in order to visualize results in a manner that is easier to understand than just printing the output. \n",
    "\n",
    "### Objectives:\n",
    "-  Use scikit-learn to split a dataset into training and testing portions\n",
    "-  Use scikit-learn Support Vector Classification for supervised learning  \n",
    "-  Compare three different support vector classifiers \n",
    "-  Use NLTK sentiment analysis to evaluate the tone of a paragraph \n",
    "-  Use NLTK tokenization to tokenize a paragraph into its individual words and sentences\n",
    "-  Use NLTK Parts of Speech to tag words as what type of word they are\n",
    "-  Use MATPLOTLIB to plot various results\n"
   ]
  },
  {
   "cell_type": "markdown",
   "metadata": {},
   "source": [
    "Before we begin the actual tutorial, it is important to ensure you have installed the necessary libraries so that you can use the necessary functions. If you have not already done so, please install scikit-learn, NLTK, Numpy, and MATPLOTLIB. If not, you may not be able to use the functions as I do. I also recommend ensuring you are familiar with Object Oriented Programming so that you can understand the descriptions of the functions used in the tutorial. "
   ]
  },
  {
   "cell_type": "code",
   "execution_count": 91,
   "metadata": {},
   "outputs": [
    {
     "name": "stderr",
     "output_type": "stream",
     "text": [
      "[nltk_data] Downloading package punkt to\n",
      "[nltk_data]     D:\\Anaconda\\envs\\ArtificialIntelligence\\nltk_data...\n",
      "[nltk_data]   Package punkt is already up-to-date!\n",
      "[nltk_data] Downloading package averaged_perceptron_tagger to\n",
      "[nltk_data]     D:\\Anaconda\\envs\\ArtificialIntelligence\\nltk_data...\n",
      "[nltk_data]   Package averaged_perceptron_tagger is already up-to-\n",
      "[nltk_data]       date!\n",
      "[nltk_data] Downloading package vader_lexicon to\n",
      "[nltk_data]     D:\\Anaconda\\envs\\ArtificialIntelligence\\nltk_data...\n",
      "[nltk_data]   Package vader_lexicon is already up-to-date!\n"
     ]
    }
   ],
   "source": [
    "\n",
    "from sklearn.model_selection import train_test_split\n",
    "from sklearn import svm, datasets\n",
    "\n",
    "\n",
    "import nltk\n",
    "nltk.download('punkt')\n",
    "nltk.download('averaged_perceptron_tagger')\n",
    "nltk.download('vader_lexicon')\n",
    "from nltk.tokenize import sent_tokenize, word_tokenize\n",
    "from nltk.sentiment.vader import SentimentIntensityAnalyzer\n",
    "\n",
    "\n",
    "import matplotlib.pyplot as plt\n",
    "import numpy as np\n",
    "# These are the necessary import statements to be used throughout the entirety of the tutorial\n",
    "# the sklearn import statements are to be used for the scikit-learn functions\n",
    "# the nltk imports are used for the NLTK functions\n",
    "# the matplotlib and numpy imports are general import statements that allow for specific functionalities"
   ]
  },
  {
   "cell_type": "markdown",
   "metadata": {},
   "source": [
    "Make sure to run the code in the above cell to make sure that the imports work properly. If they do not, please ensure you have installed the proper packages/libraries into your environment. \n",
    " It is important to properly run the download statements, otherwise the future functions used for tokenizing and aggregating will not work. This may seem weird, normally when you install something to an environment you can just use the functions and modules right away. This isn't the case with NLTK unfortunately. Even after installing, you still need to download the package you want to use. \n",
    "\n",
    "\n",
    "\n",
    "\n"
   ]
  },
  {
   "cell_type": "markdown",
   "metadata": {},
   "source": [
    "## NLTK\n",
    "Now that we have imported and downloaded all of the required modules and packages, let's get right into it. We'll start with NLTK. NLTK is a library which allows you to do various functions for Natural Language Processing. In this tutorial we will focus on tokenizing and sentiment analysis. If you don't already know, Tokenizing means to break something down into its individual components. Sentiment analysis means to analyze a piece of text, and determine  the emotional tone of that sentence. Do you see where this can be used? So for this tutorial we will break down a pagaraph into its individual sentences, as well as its individual words. We will then analyze the entire paragprah for its sentiment and display the results\n",
    "\n",
    "Let's get into it. Enter the code below into a cell and run it and move on to the explanation below. "
   ]
  },
  {
   "cell_type": "code",
   "execution_count": 92,
   "metadata": {},
   "outputs": [
    {
     "name": "stdout",
     "output_type": "stream",
     "text": [
      "['This', 'tutorial', 'will', 'demonstrate', 'how', 'to', 'use', 'some', 'functions', 'from', 'scikit-learn', ',', 'NLTK', ',', 'and', 'MATPLOTLIB', '.', 'These', 'are', 'incredibly', 'usefull', 'libraries', 'for', 'anybody', 'working', 'in', 'Artificial', 'Intelligence', 'and', 'Data', 'Science', '.', 'Scikit-Learn', 'is', 'powerful', 'due', 'to', 'having', 'its', 'own', 'implementations', 'of', 'various', 'regression', ',', 'classification', ',', 'and', 'clustering', 'algorithms', '.', 'NLTK', 'is', 'used', 'for', 'Natural', 'Language', 'Processing', '(', 'NLP', ')', 'and', 'supports', 'classification', ',', 'parsing', ',', 'tagging', 'and', 'various', 'other', 'functionalities', '.', 'MATPLOTLIB', 'is', 'used', 'for', 'graphing', 'and', 'plotting', 'in', 'order', 'to', 'visualize', 'results', '.']\n",
      "\n",
      "\n",
      "[' This tutorial will demonstrate how to use some functions from scikit-learn, NLTK, and MATPLOTLIB.', 'These are incredibly usefull libraries for anybody working in Artificial Intelligence and Data Science.', 'Scikit-Learn is powerful due to having its own implementations of various regression, classification, and clustering \\nalgorithms.', 'NLTK is used for Natural Language Processing (NLP) and supports classification, parsing, tagging and \\nvarious other functionalities.', 'MATPLOTLIB is used for graphing and plotting in order to visualize results.']\n",
      "\n",
      "\n",
      "[('This', 'DT'), ('tutorial', 'NN'), ('will', 'MD'), ('demonstrate', 'VB'), ('how', 'WRB'), ('to', 'TO'), ('use', 'VB'), ('some', 'DT'), ('functions', 'NNS'), ('from', 'IN'), ('scikit-learn', 'NN'), (',', ','), ('NLTK', 'NNP'), (',', ','), ('and', 'CC'), ('MATPLOTLIB', 'NNP'), ('.', '.'), ('These', 'DT'), ('are', 'VBP'), ('incredibly', 'RB'), ('usefull', 'JJ'), ('libraries', 'NNS'), ('for', 'IN'), ('anybody', 'NN'), ('working', 'VBG'), ('in', 'IN'), ('Artificial', 'NNP'), ('Intelligence', 'NNP'), ('and', 'CC'), ('Data', 'NNP'), ('Science', 'NNP'), ('.', '.'), ('Scikit-Learn', 'NNP'), ('is', 'VBZ'), ('powerful', 'JJ'), ('due', 'RB'), ('to', 'TO'), ('having', 'VBG'), ('its', 'PRP$'), ('own', 'JJ'), ('implementations', 'NNS'), ('of', 'IN'), ('various', 'JJ'), ('regression', 'NN'), (',', ','), ('classification', 'NN'), (',', ','), ('and', 'CC'), ('clustering', 'VBG'), ('algorithms', 'NN'), ('.', '.'), ('NLTK', 'NNP'), ('is', 'VBZ'), ('used', 'VBN'), ('for', 'IN'), ('Natural', 'NNP'), ('Language', 'NNP'), ('Processing', 'NNP'), ('(', '('), ('NLP', 'NNP'), (')', ')'), ('and', 'CC'), ('supports', 'VBZ'), ('classification', 'NN'), (',', ','), ('parsing', 'NN'), (',', ','), ('tagging', 'VBG'), ('and', 'CC'), ('various', 'JJ'), ('other', 'JJ'), ('functionalities', 'NNS'), ('.', '.'), ('MATPLOTLIB', 'NNP'), ('is', 'VBZ'), ('used', 'VBN'), ('for', 'IN'), ('graphing', 'VBG'), ('and', 'CC'), ('plotting', 'VBG'), ('in', 'IN'), ('order', 'NN'), ('to', 'TO'), ('visualize', 'VB'), ('results', 'NNS'), ('.', '.')]\n"
     ]
    }
   ],
   "source": [
    "example_text = \"\"\" This tutorial will demonstrate how to use some functions from scikit-learn, NLTK, and MATPLOTLIB. \n",
    "These are incredibly usefull libraries for anybody working in Artificial Intelligence and Data Science. \n",
    "Scikit-Learn is powerful due to having its own implementations of various regression, classification, and clustering \n",
    "algorithms. NLTK is used for Natural Language Processing (NLP) and supports classification, parsing, tagging and \n",
    "various other functionalities. MATPLOTLIB is used for graphing and plotting in order to visualize results. \"\"\"\n",
    "\n",
    "# The above line of code creates a paragraph to be used for the demonstration of the NLTK functions. \n",
    "# You may change this if you wish, however, the results will be different than this tutorial if you do. \n",
    "\n",
    "\n",
    "tokenized_words = word_tokenize(example_text)\n",
    "print(tokenized_words)\n",
    "print('\\n')\n",
    "# Breaking the input paragraph into its individual words and displaying them\n",
    "\n",
    "tokenized_sentences = sent_tokenize(example_text)\n",
    "print(tokenized_sentences)\n",
    "print('\\n')\n",
    "# Breaking the input pagrapgh into its individual sentences and displaying them\n",
    "\n",
    "tagged_words = nltk.pos_tag(tokenized_words)\n",
    "print(tagged_words)\n",
    "# Tagging each word with its description and displaying them. \n",
    "\n"
   ]
  },
  {
   "cell_type": "markdown",
   "metadata": {},
   "source": [
    "### Description Of Above Cell\n",
    "What we did using our functions (explained below) is we broke our example_text paragraph into its individual words and sentences. We then tagged each word of the paragraph as to what Part of Speech it corresponds to. \n",
    "### New Functions\n",
    "#### word_tokenize\n",
    "- Input: String/paragraph or any piece of text\n",
    "- Output: List of strings where each element is a word in the input\n",
    "\n",
    "#### sent_tokenize\n",
    "- Input: String/paragraph\n",
    "- Output: List of strings where each element is a sentence from the input text\n",
    "\n",
    "#### nltk.pos_tag\n",
    "- Input: List of words to be tagged\n",
    "- Output: List of tuples. The first element of the tuple is the word from the input list, and the second element is what part of speech that word belongs to. (Refer to reference two for an explanation for what the tags mean)\n",
    "\n",
    "\n",
    "\n",
    "Let's say we want to count how many times a type of word appears in the paragraph we gave it, simply printing it out isn't very pretty. Let's go ahead and plot it using MATPLOTLIB. Enter the code below in a cell and run it. \n",
    "\n"
   ]
  },
  {
   "cell_type": "code",
   "execution_count": 93,
   "metadata": {},
   "outputs": [
    {
     "data": {
      "image/png": "[encoded data removed]",
      "text/plain": [
       "<Figure size 432x288 with 1 Axes>"
      ]
     },
     "metadata": {
      "needs_background": "light"
     },
     "output_type": "display_data"
    }
   ],
   "source": [
    "n = 1\n",
    "count_list = [word[n] for word in tagged_words]\n",
    "# Uses list comprehension to create a list of the types of words in the tagged_words variable. \n",
    "\n",
    "plt.hist(count_list)\n",
    "# Creating the histogram\n",
    "\n",
    "plt.xticks(rotation = 'vertical')\n",
    "# Rotating xticks\n",
    "plt.xlabel(\"Word Types\")\n",
    "plt.ylabel(\"Occurances\")\n",
    "plt.title(\"Number of Occurances of Word Types\")\n",
    "\n",
    "plt.show()\n",
    "# Showing it after rotating xticks and setting labels and plot title"
   ]
  },
  {
   "cell_type": "markdown",
   "metadata": {},
   "source": [
    "### Description Of Above Cell\n",
    "What we did is we went through our tagged_words variable and created a new list which contains only the Parts of Speech the words belong to. We then created a histogram in MATPLOTLIB using this list to see how many times each type of word occurs in our example_text paragraph. \n",
    "### New Functions\n",
    "#### plt.hist\n",
    "- Input: The list which contains the data we want to generate a histogram from\n",
    "- Output: No true output, however, creates the data required for the histogram to be properly displayed when required.\n",
    "\n",
    "#### plt.xticks\n",
    "- Input: rotation which we want to set our xticks(data markers) to. \n",
    "- Output: No true output but it adjusts the histogram in internal memory so that the data markers are rotated to what     we want\n",
    "- Note: There are multiple settings you can adjust for the x-ticks so you have to specify what you are doing. Here we said to rotate the x-ticks to make them vertical. You can set the rotation to be a number, e.g 45, and this will rotate the x-ticks 45 degrees.\n",
    "\n",
    "#### plt.xlabel\n",
    "- Input: String representing what we want to set as the label for the x axis\n",
    "- Output: No true output but changes the histogram internally so it contains a label\n",
    "\n",
    "#### plt.ylabel\n",
    "- Input: String representing what we want to set as the label for the y axis\n",
    "- Output: No true output but changes the histogram internally so it contains a label\n",
    "\n",
    "#### plt.title\n",
    "- Input: String representing the title of the plot\n",
    "- Output: No true output but changes the histogram internally so it contains a label\n",
    "\n",
    "#### plt.show\n",
    "- Input: No input\n",
    "- Output: Displays the plot for viewing\n",
    "\n",
    "The reason we rotate the x-ticks to be vertical is to make the plot easier to read. You can avoid doing this, however, the data markers will over lap. This will not occur with all plots you make so it is done at your discretion. It is also possible to rotate the y-ticks using a plt.yticks function\n",
    " \n"
   ]
  },
  {
   "cell_type": "markdown",
   "metadata": {},
   "source": [
    "Moving on to my favourite stuff, let's perform sentiment analysis. Were you able to answer my question about the uses of sentiment analysis? No? No worries, I'll explain the powers of sentiment analysis with an example. Say you run a store and have a chat both with the ability to communicate with a customer using only text or instant messaging. How is that chat bot supposed to know if someone is happy with their service or not without explicitly asking them? This is where sentiment analysis comes into play, it allows a chatbot to do exactly that. It takes a sentence, or a list of sentences as input and determines the sentiment associated with it. Let's do this now, enter the code below and run it. "
   ]
  },
  {
   "cell_type": "code",
   "execution_count": 94,
   "metadata": {},
   "outputs": [
    {
     "name": "stdout",
     "output_type": "stream",
     "text": [
      "{'neg': 0.756, 'neu': 0.244, 'pos': 0.0, 'compound': -0.4767}\n",
      "{'neg': 0.0, 'neu': 0.213, 'pos': 0.787, 'compound': 0.5719}\n"
     ]
    }
   ],
   "source": [
    "\n",
    "vader = SentimentIntensityAnalyzer()\n",
    "# Creates an object which allows us to perform sentinment analysis\n",
    "sad_text = \"I am sad\"\n",
    "# Creates a sad sentences\n",
    "sad_scores = vader.polarity_scores(sad_text)\n",
    "# Analyzes the text\n",
    "\n",
    "\n",
    "\n",
    "print(sad_scores)\n",
    "# Prints the scores\n",
    "\n",
    "happy_text = \" I am happy\"\n",
    "# Creating a happy sentences\n",
    "happy_scores = vader.polarity_scores(happy_text)\n",
    "# Getting the scores\n",
    "print(happy_scores)\n",
    "\n",
    "# Printing the scores"
   ]
  },
  {
   "cell_type": "markdown",
   "metadata": {},
   "source": [
    "### Description Of Above Cell\n",
    "What we have done is created an object called vader of the SentimentIntensityAnalyzer Class. We then created sample pieces of text and using the polarity_scores method of the SentimentIntensityAnalyzer Class we found the emotional tones of the text. So, for the sad_text string it 75.6% sad, 24.4% neutral, 0% positive and is combined for -47.67 and the happy text string is 21.3% neutral, 78.7% happy and combined for 57.19. \n",
    "### New Functions\n",
    "#### SentimentIntensityAnalyzer\n",
    "- Input: No Input\n",
    "- Output: An object of the Sentiment Intensity Analyzer class which we imported. \n",
    "\n",
    "#### polarity_scores\n",
    "- Input: String of text we wish to perform analysis on\n",
    "- Output: Dictionary where key's are the emotions(negative, neutral, positive and compound) and values are how much     that emotion is in the text. \n",
    "- Note: The compound key/value is a combination of the other emotions\n",
    "\n",
    "So, with these examples, we can see that the vader sentiment analysis is pretty good, it's not perfect, but nothing is. Let's try it out on our example_text using the code below. "
   ]
  },
  {
   "cell_type": "code",
   "execution_count": 95,
   "metadata": {},
   "outputs": [
    {
     "name": "stdout",
     "output_type": "stream",
     "text": [
      "{'neg': 0.0, 'neu': 0.864, 'pos': 0.136, 'compound': 0.872}\n"
     ]
    }
   ],
   "source": [
    "example_scores = vader.polarity_scores(example_text)\n",
    "print(example_scores)"
   ]
  },
  {
   "cell_type": "markdown",
   "metadata": {},
   "source": [
    "WOW, its 86.4% neutral, that's great. Are you surprised? No? Good. The example text was a descriptive piece of work which described what we were going to do in our tutorial. It didn't contain too many emotions and this can be seen in the results. We're now done with NLTK and NLP. I hope you've gained some knowledge into the power of NLP and how NLTK can be used for text related functions."
   ]
  },
  {
   "cell_type": "markdown",
   "metadata": {},
   "source": [
    "## Scikit-learn \n",
    "This portion of the tutorial is dedicated to scikit learn and will focus on classification using supervised learning. If you didn't know, supervised learning is when you train a machine learning model using data of which you know the result. An example of this is when you try to classify an image of dogs as dogs or not dogs. If you train it on a set of images where you know which ones are dogs and which are not, then you are performing supervised learning. \n",
    "\n",
    "Now that you understand supervised learning, let's go through an example. Before we begin, we need to first load our dataset. For this tutorial we will use the digits data set which contains images of digits where each image is a matrix. We will then attempt to classify these images as one of 10 classes using our desired algorithms.  \n"
   ]
  },
  {
   "cell_type": "code",
   "execution_count": 96,
   "metadata": {},
   "outputs": [],
   "source": [
    "\n",
    "digits = datasets.load_digits()\n",
    "# Creating a variable to hold our digits data"
   ]
  },
  {
   "cell_type": "markdown",
   "metadata": {},
   "source": [
    "### Description Of Above Cell\n",
    "We loaded our digits data set using the datasets module we imported. \n",
    "### New Function\n",
    "#### load_digits\n",
    "- Input: None\n",
    "- Output: The digits dataset we wish to use. \n",
    "\n",
    "The next thing we need to do is format the data in such a way so that the machine learning algorithms can work. There is a lot of linear algebra that will go on in the background, but the most important thing to understand is that the dimensions of the matrices match in such a way that the linear algebra can be properly done. If you are more interested in understanding the math, there are lots of tutorials on YouTube that describe it. One of my favourites is the series by 3Blue1Brown. Let's go ahead and do this now. "
   ]
  },
  {
   "cell_type": "code",
   "execution_count": 97,
   "metadata": {},
   "outputs": [],
   "source": [
    "n_samples = len(digits.images)\n",
    "# Finding the number of samples in the dataset\n",
    "data = digits.images.reshape((n_samples,-1))\n",
    "# Reshaping the data of the image from a matrix to one long vector\n"
   ]
  },
  {
   "cell_type": "markdown",
   "metadata": {},
   "source": [
    "### Description Of Above Cell\n",
    "What we have done here is converted the images which were initially 2 dimensional matrices into one long vector, and made a new matrix called data which contains these images. The first row of data is one long vector which is a reshaped version of our first image. The same idea applies for the second row, and so on and so forth. We called the reshape function by first accessing all the images of our digits digits data and then calling reshape on the images. \n",
    "### New Functions\n",
    "#### reshape\n",
    "- Input: \n",
    "    - n_samples: How many rows the reshaped data should be. Here we are saying we want our data matrix to have the same number of rows as number of images we have. \n",
    "    - The int -1 means what shape we want the new data to be. Here it means we will use one long vector. \n",
    "- Output: A new array which is of the shape we want. Here it is a matrix where each row is one long vector representing each image. \n",
    "\n",
    "\n",
    "\n",
    "\n",
    "What do you think our next step is? If you said to create our training and testing data, you're 100% correct. In order for classification to work, you need to train the model you are creating on some data before you use it for predictions. The more data you train it on, the better it becomes. You wouldn't expect to do very well on an exam without practicing on some practice questions before right? The same idea applies to classification. The more practice you do, the better you do on the exam. An important point to remember is that you cannot test your model on the data which you trained it with. This would be like practicing for an exam by using the actual exam as your practice questions. "
   ]
  },
  {
   "cell_type": "code",
   "execution_count": 98,
   "metadata": {},
   "outputs": [],
   "source": [
    "\n",
    "X_Train, X_Test, y_Train, y_Test = train_test_split(data, digits.target, test_size=0.25,random_state=1)\n"
   ]
  },
  {
   "cell_type": "markdown",
   "metadata": {},
   "source": [
    "### Description Of Above Cell\n",
    "What we did is we said that we want to split our data matrix into training and testing portions. Variables leading with an X correspond to the images and variables leading with a y correspond to the class. So y_Test contains all the classes each image in X_Test belongs to, same with X_Train and y_Train.\n",
    "### New Functions\n",
    "\n",
    "#### train_test_split\n",
    "- Input:\n",
    "    - data: The data matrix we want to split into training and testing portions\n",
    "    - digits.target: The correct classes of each image in our data matrix\n",
    "    - test_size: How much of our data we want to use as our testing portion. Automatically set to 0 if left blank\n",
    "    - random_state: An integer so that when code is re-run the results are the same. If left empty does not ensure reproducability\n",
    "-Output:\n",
    "    - X_Train: The images we want to train on\n",
    "    - X_Test: The images we want to test on\n",
    "    - y_Train: The correct label for each image we will train on\n",
    "    - y_Test: The correct label for each image we will test on\n",
    "-Note: data and digits.target are mandatory inputs, the others can be left out with no consequences. \n",
    "    \n",
    "\n",
    "Now we will actually create our model to use for our classification. "
   ]
  },
  {
   "cell_type": "code",
   "execution_count": 99,
   "metadata": {},
   "outputs": [],
   "source": [
    "# Start of Reference [4] usage\n",
    "Support_Vector_Model = svm.SVC(kernel='rbf', random_state = 1)\n",
    "# Creating a classifier which uses a support vector machine algorithm. \n",
    "### End of Reference [4] usage"
   ]
  },
  {
   "cell_type": "markdown",
   "metadata": {},
   "source": [
    "### Description Of Above Cell\n",
    "We have now created a model which is a support vector classifier. For the purposes of this tutorial I will not go into depth about the math that goes on, instead, I will describe the inputs used to create our model.\n",
    "### New Functions\n",
    "#### SVC\n",
    "- Input: \n",
    "    - Kernel: Mathematical function we want to use. Here we specified we want to use a rbf kernel\n",
    "    - random_state: An integer so that when code is re-run the results are the same. If left empty does not ensure reproducability\n",
    "- Output: An object which is of the class SVC from the svm module which we imported. \n",
    "- Note: There are other kernels and inputs you can use which we will get into later on. \n",
    "\n",
    "\n",
    "\n",
    "\n",
    "Now that we understand how to create our model, lets actually train and test it on some data. "
   ]
  },
  {
   "cell_type": "code",
   "execution_count": 100,
   "metadata": {},
   "outputs": [],
   "source": [
    "Support_Vector_Model.fit(X_Train, y_Train)\n",
    "# Fitting our model\n",
    "\n",
    "results = Support_Vector_Model.predict(X_Test)\n",
    "# Predicting on our test data set"
   ]
  },
  {
   "cell_type": "markdown",
   "metadata": {},
   "source": [
    "### Description Of Above Cell\n",
    "We just trained our Support_Vector_Model using our training data and then used it to predict the labels of our test data. We then saved the results to the results variable. \n",
    "### New Functions\n",
    "\n",
    "#### fit\n",
    "- Input:\n",
    "    - X_Train: The imaged we use to optimize the model\n",
    "    - y_Train: The correct labels of each image we are using to train\n",
    "-Output: The model with its weights and parameters adjusted so that the error between what class is predicted for each image in X_Train is minimzed when the results are compared to y_Train\n",
    "\n",
    "#### predict\n",
    "- Input: The data we want to perform our predictions on\n",
    "- Output: A list which contains the predictions for what class our inputs belong to \n",
    "- Note: The length of our ouput is the same as the number of rows in our input\n",
    "\n",
    "\n",
    "Now let's see how accurate our model actually is and if we can make it more accurate by adjusting the kernel we used. \n"
   ]
  },
  {
   "cell_type": "code",
   "execution_count": 102,
   "metadata": {},
   "outputs": [
    {
     "data": {
      "image/png": "[encoded data removed]",
      "text/plain": [
       "<Figure size 432x288 with 1 Axes>"
      ]
     },
     "metadata": {
      "needs_background": "light"
     },
     "output_type": "display_data"
    }
   ],
   "source": [
    "\n",
    "test_error_SVC_RBF = np.mean(results != y_Test)\n",
    "\n",
    "\n",
    "Support_Vector_Model_Poly = svm.SVC(kernel='poly', random_state = 1)\n",
    "# Creating a classifier which uses a support vector machine algorithm and a polynomial kernel\n",
    "\n",
    "Support_Vector_Model_Poly.fit(X_Train, y_Train)\n",
    "# Fitting our model\n",
    "\n",
    "results2 = Support_Vector_Model_Poly.predict(X_Test)\n",
    "# Predicting on our test data set\n",
    "\n",
    "test_error_2 = np.mean(results2 != y_Test)\n",
    "\n",
    "Support_Vector_Model_Linear = svm.SVC(kernel='linear', random_state = 1)\n",
    "# Creating a classifier which uses a support vector machine algorithm and a polynomial kernel\n",
    "\n",
    "Support_Vector_Model_Linear.fit(X_Train, y_Train)\n",
    "# Fitting our model\n",
    "\n",
    "results3 = Support_Vector_Model_Linear.predict(X_Test)\n",
    "# Predicting on our test data set\n",
    "\n",
    "test_error_3 = np.mean(results3 != y_Test)\n",
    "\n",
    "\n",
    "models = ['linear','polynomial', 'rbf']\n",
    "errors = [test_error_3*100, test_error_2*100, test_error_SVC_RBF*100]\n",
    "plt.scatter(models, errors)\n",
    "plt.xlabel(\"Kernel\") \n",
    "plt.ylabel(\"Error as Percantage\") \n",
    "plt.title(\"Kernel Types vs. Error\")\n",
    "plt.show()"
   ]
  },
  {
   "cell_type": "markdown",
   "metadata": {},
   "source": [
    "### Description Of Above Cell\n",
    "We looped through our results variable and compared it to y_Test to see how often our model predicted the wrong output. \n",
    "We then used MATPLOTLIB to plot the results in a graph to display the differences in accuracies. \n",
    "\n",
    "### New Functions\n",
    "#### plt.scatter\n",
    "- Input:\n",
    "    - models: This represens our x data which we want to use\n",
    "    - errors: The y data we want to use corresponding to our x data\n",
    "-Output: Creates an internal scatter plot which can then be displayed similarily to how we displayed our histogram earlier in the tutorial\n",
    "-Note: Different to the histogram function, the scatter function requires you to input x and y vectors to create the chart\n",
    "\n",
    "\n",
    "\n",
    "## Conclusion\n",
    "\n",
    "This brings us to the end of the tutorial. You should now feel comfortable using Scikit-learn to load datasets, split the data into its training and testing portions, create machine learning models and train these models to make predictons. Additionally, you should now understand how to tokenize a piece of text, use sentiment analysis to understand the emotional tone of a piece of text and use MATPLOTLIB to plot results for better data visualization. If you are confused by anything, I encourage you to go through the references and documentation for each function we went through to gain a deeper understanding. This tutorial only scratches the surfaces of what you can do using Scikit-learn, NLTK, and MATPLOTLIB. "
   ]
  },
  {
   "cell_type": "markdown",
   "metadata": {},
   "source": []
  },
  {
   "cell_type": "markdown",
   "metadata": {},
   "source": [
    "### References:\n",
    "1) R. Abeyratne, “Basic Functions of NLTK~ Q &amp; A Approach,” Medium, 28-Jun-2017. [Online]. Available: https://medium.com/@ramithaabeyratne/basic-functions-of-nltk-q-a-approach-81d44baf403c. [Accessed: 10-Nov-2020]. \n",
    "\n",
    "2) Penn Treebank P.O.S. Tags. [Online]. Available: https://www.ling.upenn.edu/courses/Fall_2003/ling001/penn_treebank_pos.html. [Accessed: 10-Nov-2020]. \n",
    "\n",
    "3) “sklearn.model_selection.train_test_split¶,” scikit. [Online]. Available: https://scikit-learn.org/stable/modules/generated/sklearn.model_selection.train_test_split.html. [Accessed: 11-Nov-2020]. \n",
    "\n",
    "\n",
    "4) “sklearn.svm.SVC¶,” scikit. [Online]. Available: https://scikit-learn.org/stable/modules/generated/sklearn.svm.SVC.html. [Accessed: 11-Nov-2020]. \n",
    "\n",
    "5) “Source code for nltk.sentiment.vader,” nltk.sentiment.vader - NLTK 3.5 documentation. [Online]. Available: https://www.nltk.org/_modules/nltk/sentiment/vader.html. [Accessed: 10-Nov-2020]. \n",
    "\n",
    "6) “Recognizing hand-written digits¶,” scikit. [Online]. Available: https://scikit-learn.org/stable/auto_examples/classification/plot_digits_classification.html. [Accessed: 12-Nov-2020]. \n"
   ]
  }
 ],
 "metadata": {
  "kernelspec": {
   "display_name": "Python 3",
   "language": "python",
   "name": "python3"
  },
  "language_info": {
   "codemirror_mode": {
    "name": "ipython",
    "version": 3
   },
   "file_extension": ".py",
   "mimetype": "text/x-python",
   "name": "python",
   "nbconvert_exporter": "python",
   "pygments_lexer": "ipython3",
   "version": "3.8.5"
  }
 },
 "nbformat": 4,
 "nbformat_minor": 4
}
